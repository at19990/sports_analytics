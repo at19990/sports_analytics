{
  "nbformat": 4,
  "nbformat_minor": 0,
  "metadata": {
    "colab": {
      "name": "p02-histogram-rugby",
      "provenance": [],
      "include_colab_link": true
    },
    "kernelspec": {
      "name": "python3",
      "display_name": "Python 3"
    }
  },
  "cells": [
    {
      "cell_type": "markdown",
      "metadata": {
        "id": "view-in-github",
        "colab_type": "text"
      },
      "source": [
        "<a href=\"https://colab.research.google.com/github/at19990/sports_analytics/blob/master/p02-histogram-rugby.ipynb\" target=\"_parent\"><img src=\"https://colab.research.google.com/assets/colab-badge.svg\" alt=\"Open In Colab\"/></a>"
      ]
    },
    {
      "cell_type": "markdown",
      "metadata": {
        "id": "fVgdyOGpI3-G",
        "colab_type": "text"
      },
      "source": [
        "# ラグビーのデータをヒストグラムで可視化  \n",
        "\n",
        "ラグビー日本代表の過去のテストマッチにおける1試合当たりの得失点差・PG数・トライ数・コンバージョン数をヒストグラムで可視化し、その分布を観察する"
      ]
    },
    {
      "cell_type": "code",
      "metadata": {
        "id": "QFHMkYR6owFU",
        "colab_type": "code",
        "colab": {}
      },
      "source": [
        "import numpy as np\n",
        "import pandas as pd\n",
        "import scipy.stats as sp\n",
        "from scipy.stats import norm\n",
        "\n",
        "import matplotlib\n",
        "import matplotlib.pyplot as plt\n",
        "from matplotlib import rc\n"
      ],
      "execution_count": 0,
      "outputs": []
    },
    {
      "cell_type": "code",
      "metadata": {
        "id": "ApWiqh2PqnaX",
        "colab_type": "code",
        "colab": {
          "base_uri": "https://localhost:8080/",
          "height": 34
        },
        "outputId": "09e75349-3c46-4fe6-aa61-d2defb7cd2dd"
      },
      "source": [
        "!pip install japanize_matplotlib\n",
        "import japanize_matplotlib\n"
      ],
      "execution_count": 2,
      "outputs": [
        {
          "output_type": "stream",
          "text": [
            "Requirement already satisfied: japanize_matplotlib in /usr/local/lib/python3.6/dist-packages (1.0.5)\n"
          ],
          "name": "stdout"
        }
      ]
    },
    {
      "cell_type": "markdown",
      "metadata": {
        "id": "C5kjKBplqmhG",
        "colab_type": "text"
      },
      "source": [
        "## データ\n",
        "\n",
        "ESPNSCRUM (http://stats.espnscrum.com/statsguru/rugby/stats/index.html) からデータを取得する"
      ]
    },
    {
      "cell_type": "code",
      "metadata": {
        "id": "l-0tt4ijqocz",
        "colab_type": "code",
        "colab": {}
      },
      "source": [
        "# 表データをデータフレームに落とし込む\n",
        "url = 'http://stats.espnscrum.com/statsguru/rugby/stats/index.html?class=1;orderby=date;team=23;template=results;type=team;view=match'\n",
        "fetched_dataframes = pd.io.html.read_html(url)\n",
        "df1 = fetched_dataframes[3]\n",
        "\n",
        "for i in range(2, 9):\n",
        "\n",
        "  url = 'http://stats.espnscrum.com/statsguru/rugby/stats/index.html?class=1;orderby=date;page={};team=23;template=results;type=team;view=match'.format(i)\n",
        "  fetched_dataframes = pd.io.html.read_html(url)\n",
        "  df2 = fetched_dataframes[3]\n",
        "  df1 = pd.concat([df1, df2])"
      ],
      "execution_count": 0,
      "outputs": []
    },
    {
      "cell_type": "code",
      "metadata": {
        "id": "aKK4IksBqzev",
        "colab_type": "code",
        "colab": {
          "base_uri": "https://localhost:8080/",
          "height": 407
        },
        "outputId": "1fbf88d3-86ec-4b4d-e91f-b2c69c8a6329"
      },
      "source": [
        "# インデックスの振り直し\n",
        "df1 = df1.reset_index(drop=True)\n",
        "# 不要な列の削除\n",
        "df1 = df1.drop(df1.columns[[9, 13]], axis=1)\n",
        "\n",
        "df1"
      ],
      "execution_count": 4,
      "outputs": [
        {
          "output_type": "execute_result",
          "data": {
            "text/html": [
              "<div>\n",
              "<style scoped>\n",
              "    .dataframe tbody tr th:only-of-type {\n",
              "        vertical-align: middle;\n",
              "    }\n",
              "\n",
              "    .dataframe tbody tr th {\n",
              "        vertical-align: top;\n",
              "    }\n",
              "\n",
              "    .dataframe thead th {\n",
              "        text-align: right;\n",
              "    }\n",
              "</style>\n",
              "<table border=\"1\" class=\"dataframe\">\n",
              "  <thead>\n",
              "    <tr style=\"text-align: right;\">\n",
              "      <th></th>\n",
              "      <th>Team</th>\n",
              "      <th>Result</th>\n",
              "      <th>For</th>\n",
              "      <th>Aga</th>\n",
              "      <th>Diff</th>\n",
              "      <th>Tries</th>\n",
              "      <th>Conv</th>\n",
              "      <th>Pens</th>\n",
              "      <th>Drop</th>\n",
              "      <th>Opposition</th>\n",
              "      <th>Ground</th>\n",
              "      <th>Match Date</th>\n",
              "    </tr>\n",
              "  </thead>\n",
              "  <tbody>\n",
              "    <tr>\n",
              "      <th>0</th>\n",
              "      <td>Japan</td>\n",
              "      <td>draw</td>\n",
              "      <td>3</td>\n",
              "      <td>3</td>\n",
              "      <td>0</td>\n",
              "      <td>1</td>\n",
              "      <td>0</td>\n",
              "      <td>0</td>\n",
              "      <td>0</td>\n",
              "      <td>v British Col</td>\n",
              "      <td>Vancouver</td>\n",
              "      <td>24 Sep 1930</td>\n",
              "    </tr>\n",
              "    <tr>\n",
              "      <th>1</th>\n",
              "      <td>Japan</td>\n",
              "      <td>won</td>\n",
              "      <td>9</td>\n",
              "      <td>8</td>\n",
              "      <td>1</td>\n",
              "      <td>3</td>\n",
              "      <td>0</td>\n",
              "      <td>0</td>\n",
              "      <td>0</td>\n",
              "      <td>v Canada</td>\n",
              "      <td>Osaka</td>\n",
              "      <td>31 Jan 1932</td>\n",
              "    </tr>\n",
              "    <tr>\n",
              "      <th>2</th>\n",
              "      <td>Japan</td>\n",
              "      <td>won</td>\n",
              "      <td>38</td>\n",
              "      <td>5</td>\n",
              "      <td>33</td>\n",
              "      <td>8</td>\n",
              "      <td>4</td>\n",
              "      <td>2</td>\n",
              "      <td>0</td>\n",
              "      <td>v Canada</td>\n",
              "      <td>Tokyo</td>\n",
              "      <td>11 Feb 1932</td>\n",
              "    </tr>\n",
              "    <tr>\n",
              "      <th>3</th>\n",
              "      <td>Japan</td>\n",
              "      <td>lost</td>\n",
              "      <td>8</td>\n",
              "      <td>18</td>\n",
              "      <td>-10</td>\n",
              "      <td>1</td>\n",
              "      <td>1</td>\n",
              "      <td>1</td>\n",
              "      <td>0</td>\n",
              "      <td>v Aust Unis</td>\n",
              "      <td>Tokyo</td>\n",
              "      <td>11 Feb 1934</td>\n",
              "    </tr>\n",
              "    <tr>\n",
              "      <th>4</th>\n",
              "      <td>Japan</td>\n",
              "      <td>won</td>\n",
              "      <td>14</td>\n",
              "      <td>9</td>\n",
              "      <td>5</td>\n",
              "      <td>3</td>\n",
              "      <td>1</td>\n",
              "      <td>1</td>\n",
              "      <td>0</td>\n",
              "      <td>v Aust Unis</td>\n",
              "      <td>Osaka</td>\n",
              "      <td>18 Feb 1934</td>\n",
              "    </tr>\n",
              "    <tr>\n",
              "      <th>...</th>\n",
              "      <td>...</td>\n",
              "      <td>...</td>\n",
              "      <td>...</td>\n",
              "      <td>...</td>\n",
              "      <td>...</td>\n",
              "      <td>...</td>\n",
              "      <td>...</td>\n",
              "      <td>...</td>\n",
              "      <td>...</td>\n",
              "      <td>...</td>\n",
              "      <td>...</td>\n",
              "      <td>...</td>\n",
              "    </tr>\n",
              "    <tr>\n",
              "      <th>352</th>\n",
              "      <td>Japan</td>\n",
              "      <td>won</td>\n",
              "      <td>30</td>\n",
              "      <td>10</td>\n",
              "      <td>20</td>\n",
              "      <td>4</td>\n",
              "      <td>2</td>\n",
              "      <td>2</td>\n",
              "      <td>0</td>\n",
              "      <td>v Russia</td>\n",
              "      <td>Tokyo</td>\n",
              "      <td>20 Sep 2019</td>\n",
              "    </tr>\n",
              "    <tr>\n",
              "      <th>353</th>\n",
              "      <td>Japan</td>\n",
              "      <td>won</td>\n",
              "      <td>19</td>\n",
              "      <td>12</td>\n",
              "      <td>7</td>\n",
              "      <td>1</td>\n",
              "      <td>1</td>\n",
              "      <td>4</td>\n",
              "      <td>0</td>\n",
              "      <td>v Ireland</td>\n",
              "      <td>Shizuoka</td>\n",
              "      <td>28 Sep 2019</td>\n",
              "    </tr>\n",
              "    <tr>\n",
              "      <th>354</th>\n",
              "      <td>Japan</td>\n",
              "      <td>won</td>\n",
              "      <td>38</td>\n",
              "      <td>19</td>\n",
              "      <td>19</td>\n",
              "      <td>4</td>\n",
              "      <td>3</td>\n",
              "      <td>4</td>\n",
              "      <td>0</td>\n",
              "      <td>v Samoa</td>\n",
              "      <td>Aichi</td>\n",
              "      <td>5 Oct 2019</td>\n",
              "    </tr>\n",
              "    <tr>\n",
              "      <th>355</th>\n",
              "      <td>Japan</td>\n",
              "      <td>won</td>\n",
              "      <td>28</td>\n",
              "      <td>21</td>\n",
              "      <td>7</td>\n",
              "      <td>4</td>\n",
              "      <td>4</td>\n",
              "      <td>0</td>\n",
              "      <td>0</td>\n",
              "      <td>v Scotland</td>\n",
              "      <td>Yokohama</td>\n",
              "      <td>13 Oct 2019</td>\n",
              "    </tr>\n",
              "    <tr>\n",
              "      <th>356</th>\n",
              "      <td>Japan</td>\n",
              "      <td>lost</td>\n",
              "      <td>3</td>\n",
              "      <td>26</td>\n",
              "      <td>-23</td>\n",
              "      <td>0</td>\n",
              "      <td>0</td>\n",
              "      <td>1</td>\n",
              "      <td>0</td>\n",
              "      <td>v South Africa</td>\n",
              "      <td>Tokyo</td>\n",
              "      <td>20 Oct 2019</td>\n",
              "    </tr>\n",
              "  </tbody>\n",
              "</table>\n",
              "<p>357 rows × 12 columns</p>\n",
              "</div>"
            ],
            "text/plain": [
              "      Team Result  For  Aga  ...  Drop      Opposition     Ground   Match Date\n",
              "0    Japan   draw    3    3  ...     0   v British Col  Vancouver  24 Sep 1930\n",
              "1    Japan    won    9    8  ...     0        v Canada      Osaka  31 Jan 1932\n",
              "2    Japan    won   38    5  ...     0        v Canada      Tokyo  11 Feb 1932\n",
              "3    Japan   lost    8   18  ...     0     v Aust Unis      Tokyo  11 Feb 1934\n",
              "4    Japan    won   14    9  ...     0     v Aust Unis      Osaka  18 Feb 1934\n",
              "..     ...    ...  ...  ...  ...   ...             ...        ...          ...\n",
              "352  Japan    won   30   10  ...     0        v Russia      Tokyo  20 Sep 2019\n",
              "353  Japan    won   19   12  ...     0       v Ireland   Shizuoka  28 Sep 2019\n",
              "354  Japan    won   38   19  ...     0         v Samoa      Aichi   5 Oct 2019\n",
              "355  Japan    won   28   21  ...     0      v Scotland   Yokohama  13 Oct 2019\n",
              "356  Japan   lost    3   26  ...     0  v South Africa      Tokyo  20 Oct 2019\n",
              "\n",
              "[357 rows x 12 columns]"
            ]
          },
          "metadata": {
            "tags": []
          },
          "execution_count": 4
        }
      ]
    },
    {
      "cell_type": "code",
      "metadata": {
        "id": "Y2n9rzoV07zF",
        "colab_type": "code",
        "colab": {
          "base_uri": "https://localhost:8080/",
          "height": 606
        },
        "outputId": "a77e7c2b-890d-4a5f-f597-78d1f72d80e2"
      },
      "source": [
        "# ヒストグラム描画\n",
        "plt.figure(figsize=(15,10))\n",
        "plt.subplots_adjust(wspace=0.3, hspace=0.3)\n",
        "\n",
        "plt.subplot(2,2,1)\n",
        "df1.Diff.hist(bins=12)\n",
        "plt.title(\"得失点差\")\n",
        "\n",
        "plt.subplot(2,2,2)\n",
        "df1.Pens.hist()\n",
        "plt.title(\"ペナルティゴール\")\n",
        "\n",
        "plt.subplot(2,2,3)\n",
        "df1.Tries.hist()\n",
        "plt.title(\"トライ\")\n",
        "\n",
        "plt.subplot(2,2,4)\n",
        "df1.Conv.hist()\n",
        "plt.title(\"コンバージョンゴール\")\n",
        "\n",
        "plt.show()\n"
      ],
      "execution_count": 15,
      "outputs": [
        {
          "output_type": "display_data",
          "data": {
            "image/png": "[encoded data removed]",
            "text/plain": [
              "<Figure size 1080x720 with 4 Axes>"
            ]
          },
          "metadata": {
            "tags": []
          }
        }
      ]
    }
  ]
}