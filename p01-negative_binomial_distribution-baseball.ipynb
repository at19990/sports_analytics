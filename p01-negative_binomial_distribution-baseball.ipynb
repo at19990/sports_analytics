{
  "nbformat": 4,
  "nbformat_minor": 0,
  "metadata": {
    "colab": {
      "name": "p01-negative_binomial _distribution-baseball.ipynb",
      "provenance": [],
      "include_colab_link": true
    },
    "kernelspec": {
      "name": "python3",
      "display_name": "Python 3"
    }
  },
  "cells": [
    {
      "cell_type": "markdown",
      "metadata": {
        "id": "view-in-github",
        "colab_type": "text"
      },
      "source": [
        "<a href=\"https://colab.research.google.com/github/at19990/sports_analytics/blob/master/p01-negative_binomial_distribution-baseball.ipynb\" target=\"_parent\"><img src=\"https://colab.research.google.com/assets/colab-badge.svg\" alt=\"Open In Colab\"/></a>"
      ]
    },
    {
      "cell_type": "markdown",
      "metadata": {
        "id": "vUjRKB0p5SWn",
        "colab_type": "text"
      },
      "source": [
        "# 1試合あたりの出塁数の確率を負の二項分布を用いて計算\n",
        "\n",
        "数式が正常に表示されない場合、Colabで開いてください"
      ]
    },
    {
      "cell_type": "markdown",
      "metadata": {
        "id": "eInUylZr6oAA",
        "colab_type": "text"
      },
      "source": [
        "## 負の二項分布  \n",
        "\n",
        "幾何分布の一般化として、$k$回目の成功を得るまでの失敗回数を$x$とすれば、$x = 0, 1, 2, ...$で、その確率は、\n",
        "\n",
        "$$f(x) = {}_{k+x-1}C_{x}\\ p^k\\ (1-p)^x$$\n",
        "\n",
        "参考: 『統計学入門』(1991, 東京大学教養学部統計学教室, 東京大学出版会)\n",
        "\n",
        "ここで、野球において、打撃結果はアウトになる・ならない(出塁する)という2種類の結果からなり、1試合が終了するまでのアウトの数は決まっているので、これらを上式に当てはめると、\n",
        "\n",
        "\\begin{eqnarray}\n",
        "p &=& (\\mbox{アウトとなる確率}) \\simeq 1 - (\\mbox{出塁率}),\\nonumber \\\\ \n",
        "k &=& (\\mbox{1試合を終えるのに必要なアウトの数}) = 27,\\nonumber \\\\\n",
        " x &=& (\\mbox{出塁した回数})\\nonumber\n",
        " \\end{eqnarray}\n",
        "\n",
        "と考えられる\n"
      ]
    },
    {
      "cell_type": "code",
      "metadata": {
        "id": "DfUknE-8rzNa",
        "colab_type": "code",
        "colab": {}
      },
      "source": [
        "from scipy.special import comb\n",
        "import matplotlib.pyplot as plt"
      ],
      "execution_count": 0,
      "outputs": []
    },
    {
      "cell_type": "markdown",
      "metadata": {
        "id": "3mqg7S3TAm1b",
        "colab_type": "text"
      },
      "source": [
        "## 使用データ  \n",
        "\n",
        "ここでは、2019年のNPB・広島東洋カープのチーム出塁率を計算に用いる\n",
        "\n",
        "データは「プロ野球データFreak」(https://baseball-data.com/team/hitter.html) より取得"
      ]
    },
    {
      "cell_type": "code",
      "metadata": {
        "id": "_LxlNdwYWrSB",
        "colab_type": "code",
        "colab": {}
      },
      "source": [
        "# チーム出塁率\n",
        "on_base_prob = 0.324"
      ],
      "execution_count": 0,
      "outputs": []
    },
    {
      "cell_type": "code",
      "metadata": {
        "id": "Q-AJE8CucR-v",
        "colab_type": "code",
        "colab": {
          "base_uri": "https://localhost:8080/",
          "height": 393
        },
        "outputId": "3d369c9e-7ac1-4137-9045-d539a357fff9"
      },
      "source": [
        "# 1試合あたり(27個アウトが生ずるまで)の出塁数の確率を計算\n",
        "def nebinom_f(x, r, p):\n",
        "  return comb(r+x-1,x)*p**r*(1-p)**x\n",
        "\n",
        "# 0出塁から30出塁までの範囲で考える\n",
        "range_x = range(0, 30)\n",
        "# アウトの数\n",
        "r = 27\n",
        "# 出塁でない結果,すなわちアウトが生ずる確率\n",
        "p = 1 - on_base_prob\n",
        "\n",
        "nbi_f= [nebinom_f(x, r, p) for x in range_x]\n",
        "\n",
        "# グラフに描画\n",
        "plt.figure(figsize=(12,6))\n",
        "plt.plot(range_x, nbi_f, 'o')\n",
        "plt.ylabel('probability', fontsize=15)\n",
        "plt.xlabel('OnBase', fontsize=15)\n",
        "plt.show()"
      ],
      "execution_count": 3,
      "outputs": [
        {
          "output_type": "display_data",
          "data": {
            "image/png": "iVBORw0KGgoAAAANSUhEUgAAAtwAAAF4CAYAAABnzC4MAAAABHNCSVQICAgIfAhkiAAAAAlwSFlz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\nrkJggg==\n",
            "text/plain": [
              "<Figure size 864x432 with 1 Axes>"
            ]
          },
          "metadata": {
            "tags": []
          }
        }
      ]
    },
    {
      "cell_type": "code",
      "metadata": {
        "id": "zDXj5EGK1UG2",
        "colab_type": "code",
        "colab": {
          "base_uri": "https://localhost:8080/",
          "height": 34
        },
        "outputId": "2c5294ed-35ab-41a4-90ee-4534329e9b0f"
      },
      "source": [
        "print('[被完全試合(0出塁)の確率] = {:.5%}'.format(nbi_f[0]))"
      ],
      "execution_count": 4,
      "outputs": [
        {
          "output_type": "stream",
          "text": [
            "[被完全試合(0出塁)の確率] = 0.00256%\n"
          ],
          "name": "stdout"
        }
      ]
    },
    {
      "cell_type": "code",
      "metadata": {
        "id": "0WA-NAv5E1g5",
        "colab_type": "code",
        "colab": {
          "base_uri": "https://localhost:8080/",
          "height": 34
        },
        "outputId": "45002b33-9a40-42b8-e4c8-219fa483f250"
      },
      "source": [
        "print('[最も可能性が高い出塁数] = {}'.format(nbi_f.index(max(nbi_f))))"
      ],
      "execution_count": 5,
      "outputs": [
        {
          "output_type": "stream",
          "text": [
            "[最も可能性が高い出塁数] = 12\n"
          ],
          "name": "stdout"
        }
      ]
    },
    {
      "cell_type": "markdown",
      "metadata": {
        "id": "dQwZR6l9G7FM",
        "colab_type": "text"
      },
      "source": [
        "\n",
        "## note\n",
        "\n",
        "以上より、2019年のカープの被完全試合の確率・1試合における最も可能性の高い出塁数などの確率が求まるが...\n",
        "\n",
        "\n",
        "$$(\\mbox{出塁率}) = \\frac{\\mbox{安打＋四球数＋死球数}}{\\mbox{打数+四球数＋死球数＋犠飛数}}$$\n",
        "\n",
        "で算出され、犠打などは打数に含まない・エラーによる出塁や盗塁死がカウントされないなどのことから、実際は \n",
        "\n",
        "$$(\\mbox{出塁率}) \\simeq (\\mbox{アウトにならない確率})$$\n",
        
      ]
    }
  ]
}
