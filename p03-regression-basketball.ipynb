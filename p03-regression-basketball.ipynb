{
  "nbformat": 4,
  "nbformat_minor": 0,
  "metadata": {
    "colab": {
      "name": "p03-regression-basketball.ipynb",
      "provenance": [],
      "collapsed_sections": [],
      "include_colab_link": true
    },
    "kernelspec": {
      "name": "python3",
      "display_name": "Python 3"
    }
  },
  "cells": [
    {
      "cell_type": "markdown",
      "metadata": {
        "id": "view-in-github",
        "colab_type": "text"
      },
      "source": [
        "<a href=\"https://colab.research.google.com/github/at19990/sports_analytics/blob/master/p03-regression-basketball.ipynb\" target=\"_parent\"><img src=\"https://colab.research.google.com/assets/colab-badge.svg\" alt=\"Open In Colab\"/></a>"
      ]
    },
    {
      "cell_type": "markdown",
      "metadata": {
        "id": "E0YRRJm5MmM0",
        "colab_type": "text"
      },
      "source": [
        "# バスケットボールのスタッツを回帰分析\n",
        "\n",
        "Bリーグのスタッツを取得し、各変数の相関を観察したのち、回帰による予測モデルを作成する"
      ]
    },
    {
      "cell_type": "code",
      "metadata": {
        "id": "6Xp9U7oXaD8r",
        "colab_type": "code",
        "outputId": "487382e5-a0e6-40dd-de78-37c82d81f2ae",
        "colab": {
          "base_uri": "https://localhost:8080/",
          "height": 404
        }
      },
      "source": [
        "# 必要なパッケージのインストール\n",
        "!apt-get update\n",
        "!apt install chromium-chromedriver\n",
        "!cp /usr/lib/chromium-browser/chromedriver /usr/bin\n",
        "!pip install selenium"
      ],
      "execution_count": 1,
      "outputs": [
        {
          "output_type": "stream",
          "text": [
            "\r0% [Working]\r            \rHit:1 https://cloud.r-project.org/bin/linux/ubuntu bionic-cran35/ InRelease\n",
            "\r0% [Connecting to archive.ubuntu.com] [Connecting to security.ubuntu.com] [Wait\r0% [1 InRelease gpgv 3,626 B] [Connecting to archive.ubuntu.com] [Connecting to\r                                                                               \rIgn:2 https://developer.download.nvidia.com/compute/cuda/repos/ubuntu1804/x86_64  InRelease\n",
            "\r0% [1 InRelease gpgv 3,626 B] [Connecting to archive.ubuntu.com] [Connecting to\r0% [Connecting to archive.ubuntu.com (91.189.88.24)] [Connecting to security.ub\r                                                                               \rIgn:3 https://developer.download.nvidia.com/compute/machine-learning/repos/ubuntu1804/x86_64  InRelease\n",
            "\r0% [Connecting to archive.ubuntu.com (91.189.88.24)] [Connecting to security.ub\r                                                                               \rHit:4 https://developer.download.nvidia.com/compute/cuda/repos/ubuntu1804/x86_64  Release\n",
            "\r0% [Connecting to archive.ubuntu.com (91.189.88.24)] [Connecting to security.ub\r0% [Release.gpg gpgv 564 B] [Connecting to archive.ubuntu.com (91.189.88.24)] [\r                                                                               \rHit:5 https://developer.download.nvidia.com/compute/machine-learning/repos/ubuntu1804/x86_64  Release\n",
            "Hit:6 http://ppa.launchpad.net/graphics-drivers/ppa/ubuntu bionic InRelease\n",
            "Get:8 http://security.ubuntu.com/ubuntu bionic-security InRelease [88.7 kB]\n",
            "Hit:9 http://archive.ubuntu.com/ubuntu bionic InRelease\n",
            "Hit:11 http://ppa.launchpad.net/marutter/c2d4u3.5/ubuntu bionic InRelease\n",
            "Get:12 http://archive.ubuntu.com/ubuntu bionic-updates InRelease [88.7 kB]\n",
            "Get:13 http://archive.ubuntu.com/ubuntu bionic-backports InRelease [74.6 kB]\n",
            "Fetched 252 kB in 3s (72.5 kB/s)\n",
            "Reading package lists... Done\n",
            "Reading package lists... Done\n",
            "Building dependency tree       \n",
            "Reading state information... Done\n",
            "chromium-chromedriver is already the newest version (78.0.3904.97-0ubuntu0.18.04.1).\n",
            "0 upgraded, 0 newly installed, 0 to remove and 78 not upgraded.\n",
            "cp: '/usr/lib/chromium-browser/chromedriver' and '/usr/bin/chromedriver' are the same file\n",
            "Requirement already satisfied: selenium in /usr/local/lib/python3.6/dist-packages (3.141.0)\n",
            "Requirement already satisfied: urllib3 in /usr/local/lib/python3.6/dist-packages (from selenium) (1.24.3)\n"
          ],
          "name": "stdout"
        }
      ]
    },
    {
      "cell_type": "code",
      "metadata": {
        "id": "WHL4h_JlTzZG",
        "colab_type": "code",
        "colab": {}
      },
      "source": [
        "import numpy as np\n",
        "import pandas as pd\n",
        "from bs4 import BeautifulSoup\n",
        "import seaborn as sns\n",
        "\n",
        "import matplotlib\n",
        "import matplotlib.pyplot as plt\n",
        "from matplotlib import rc\n",
        "\n",
        "import scipy.stats as sp\n",
        "from scipy.stats import norm\n",
        "\n",
        "from sklearn import linear_model\n",
        "from sklearn.svm import SVR\n",
        "from sklearn.metrics import mean_squared_error\n",
        "from sklearn.linear_model import Ridge\n",
        "from sklearn.pipeline import Pipeline"
      ],
      "execution_count": 0,
      "outputs": []
    },
    {
      "cell_type": "code",
      "metadata": {
        "id": "YBvgp6OcaNZh",
        "colab_type": "code",
        "colab": {}
      },
      "source": [
        "from selenium import webdriver\n",
        "from selenium.webdriver.chrome.options import Options"
      ],
      "execution_count": 0,
      "outputs": []
    },
    {
      "cell_type": "markdown",
      "metadata": {
        "id": "8_umO7wvOlAF",
        "colab_type": "text"
      },
      "source": [
        "## データの取得・整形\n",
        "\n",
        "Basketballnavi.DB([https://stats.basketballnavi.com/player_leaders_2019.pl](https://stats.basketballnavi.com/player_leaders_2019.pl)) から2019-2020シーズンのBリーグのプレイヤースタッツ順位表を取得し、整形する"
      ]
    },
    {
      "cell_type": "code",
      "metadata": {
        "id": "ISteaTSkaVUW",
        "colab_type": "code",
        "colab": {}
      },
      "source": [
        "# seleniumを用いてスクリプト適用後のページソースを取得\n",
        "options = webdriver.ChromeOptions()\n",
        "options.add_argument('--headless')\n",
        "options.add_argument('--no-sandbox')\n",
        "options.add_argument('--disable-dev-shm-usage')\n",
        "driver = webdriver.Chrome('chromedriver',options=options)\n",
        "driver.implicitly_wait(10)\n",
        "driver.get(\"https://stats.basketballnavi.com/player_leaders_2019.pl\")\n",
        "html = driver.page_source.encode('utf-8')\n",
        "soup = BeautifulSoup(html, \"html.parser\")"
      ],
      "execution_count": 0,
      "outputs": []
    },
    {
      "cell_type": "code",
      "metadata": {
        "id": "vajIgtk8f75B",
        "colab_type": "code",
        "outputId": "77703bc0-561e-4b30-c436-b993678c1dae",
        "colab": {
          "base_uri": "https://localhost:8080/",
          "height": 427
        }
      },
      "source": [
        "# スクレイピングしたHTMLから表を抽出\n",
        "fetched_dataframes = pd.io.html.read_html(html)\n",
        "df = fetched_dataframes[0]\n",
        "# 欠損値・不要な行の処理・ソート\n",
        "df = df[~df['#'].str.contains('NO')]\n",
        "df = df.dropna()\n",
        "df = df.loc[:,'G':'PF'].astype('float64').sort_values('BLK')\n",
        "# インデックスの振り直し\n",
        "df = df.reset_index(drop=True)\n",
        "df"
      ],
      "execution_count": 5,
      "outputs": [
        {
          "output_type": "execute_result",
          "data": {
            "text/html": [
              "<div>\n",
              "<style scoped>\n",
              "    .dataframe tbody tr th:only-of-type {\n",
              "        vertical-align: middle;\n",
              "    }\n",
              "\n",
              "    .dataframe tbody tr th {\n",
              "        vertical-align: top;\n",
              "    }\n",
              "\n",
              "    .dataframe thead th {\n",
              "        text-align: right;\n",
              "    }\n",
              "</style>\n",
              "<table border=\"1\" class=\"dataframe\">\n",
              "  <thead>\n",
              "    <tr style=\"text-align: right;\">\n",
              "      <th></th>\n",
              "      <th>G</th>\n",
              "      <th>GS</th>\n",
              "      <th>MP</th>\n",
              "      <th>PTS</th>\n",
              "      <th>3PM</th>\n",
              "      <th>3PA</th>\n",
              "      <th>3P%</th>\n",
              "      <th>FGM</th>\n",
              "      <th>FGA</th>\n",
              "      <th>FG%</th>\n",
              "      <th>FTM</th>\n",
              "      <th>FTA</th>\n",
              "      <th>FT%</th>\n",
              "      <th>ORB</th>\n",
              "      <th>TRB</th>\n",
              "      <th>AST</th>\n",
              "      <th>STL</th>\n",
              "      <th>BLK</th>\n",
              "      <th>TOV</th>\n",
              "      <th>PF</th>\n",
              "    </tr>\n",
              "  </thead>\n",
              "  <tbody>\n",
              "    <tr>\n",
              "      <th>0</th>\n",
              "      <td>12.0</td>\n",
              "      <td>8.0</td>\n",
              "      <td>22.9</td>\n",
              "      <td>4.1</td>\n",
              "      <td>7.0</td>\n",
              "      <td>30.0</td>\n",
              "      <td>23.3</td>\n",
              "      <td>19.0</td>\n",
              "      <td>56.0</td>\n",
              "      <td>33.9</td>\n",
              "      <td>4.0</td>\n",
              "      <td>6.0</td>\n",
              "      <td>66.7</td>\n",
              "      <td>0.2</td>\n",
              "      <td>2.7</td>\n",
              "      <td>3.8</td>\n",
              "      <td>1.0</td>\n",
              "      <td>0.0</td>\n",
              "      <td>2.0</td>\n",
              "      <td>1.8</td>\n",
              "    </tr>\n",
              "    <tr>\n",
              "      <th>1</th>\n",
              "      <td>14.0</td>\n",
              "      <td>14.0</td>\n",
              "      <td>23.9</td>\n",
              "      <td>9.8</td>\n",
              "      <td>14.0</td>\n",
              "      <td>34.0</td>\n",
              "      <td>41.2</td>\n",
              "      <td>51.0</td>\n",
              "      <td>108.0</td>\n",
              "      <td>47.2</td>\n",
              "      <td>21.0</td>\n",
              "      <td>27.0</td>\n",
              "      <td>77.8</td>\n",
              "      <td>1.1</td>\n",
              "      <td>2.8</td>\n",
              "      <td>5.4</td>\n",
              "      <td>1.2</td>\n",
              "      <td>0.0</td>\n",
              "      <td>2.0</td>\n",
              "      <td>1.8</td>\n",
              "    </tr>\n",
              "    <tr>\n",
              "      <th>2</th>\n",
              "      <td>12.0</td>\n",
              "      <td>9.0</td>\n",
              "      <td>28.5</td>\n",
              "      <td>13.5</td>\n",
              "      <td>21.0</td>\n",
              "      <td>63.0</td>\n",
              "      <td>33.3</td>\n",
              "      <td>61.0</td>\n",
              "      <td>141.0</td>\n",
              "      <td>43.3</td>\n",
              "      <td>19.0</td>\n",
              "      <td>23.0</td>\n",
              "      <td>82.6</td>\n",
              "      <td>0.4</td>\n",
              "      <td>2.8</td>\n",
              "      <td>4.5</td>\n",
              "      <td>1.0</td>\n",
              "      <td>0.0</td>\n",
              "      <td>1.2</td>\n",
              "      <td>1.9</td>\n",
              "    </tr>\n",
              "    <tr>\n",
              "      <th>3</th>\n",
              "      <td>13.0</td>\n",
              "      <td>12.0</td>\n",
              "      <td>19.6</td>\n",
              "      <td>6.0</td>\n",
              "      <td>8.0</td>\n",
              "      <td>39.0</td>\n",
              "      <td>20.5</td>\n",
              "      <td>27.0</td>\n",
              "      <td>78.0</td>\n",
              "      <td>34.6</td>\n",
              "      <td>16.0</td>\n",
              "      <td>18.0</td>\n",
              "      <td>88.9</td>\n",
              "      <td>0.5</td>\n",
              "      <td>1.9</td>\n",
              "      <td>1.1</td>\n",
              "      <td>0.8</td>\n",
              "      <td>0.0</td>\n",
              "      <td>1.3</td>\n",
              "      <td>1.9</td>\n",
              "    </tr>\n",
              "    <tr>\n",
              "      <th>4</th>\n",
              "      <td>10.0</td>\n",
              "      <td>1.0</td>\n",
              "      <td>19.8</td>\n",
              "      <td>3.9</td>\n",
              "      <td>11.0</td>\n",
              "      <td>23.0</td>\n",
              "      <td>47.8</td>\n",
              "      <td>13.0</td>\n",
              "      <td>29.0</td>\n",
              "      <td>44.8</td>\n",
              "      <td>2.0</td>\n",
              "      <td>3.0</td>\n",
              "      <td>66.7</td>\n",
              "      <td>0.2</td>\n",
              "      <td>2.0</td>\n",
              "      <td>1.0</td>\n",
              "      <td>0.1</td>\n",
              "      <td>0.0</td>\n",
              "      <td>0.7</td>\n",
              "      <td>2.2</td>\n",
              "    </tr>\n",
              "    <tr>\n",
              "      <th>...</th>\n",
              "      <td>...</td>\n",
              "      <td>...</td>\n",
              "      <td>...</td>\n",
              "      <td>...</td>\n",
              "      <td>...</td>\n",
              "      <td>...</td>\n",
              "      <td>...</td>\n",
              "      <td>...</td>\n",
              "      <td>...</td>\n",
              "      <td>...</td>\n",
              "      <td>...</td>\n",
              "      <td>...</td>\n",
              "      <td>...</td>\n",
              "      <td>...</td>\n",
              "      <td>...</td>\n",
              "      <td>...</td>\n",
              "      <td>...</td>\n",
              "      <td>...</td>\n",
              "      <td>...</td>\n",
              "      <td>...</td>\n",
              "    </tr>\n",
              "    <tr>\n",
              "      <th>150</th>\n",
              "      <td>9.0</td>\n",
              "      <td>9.0</td>\n",
              "      <td>31.3</td>\n",
              "      <td>14.6</td>\n",
              "      <td>15.0</td>\n",
              "      <td>42.0</td>\n",
              "      <td>35.7</td>\n",
              "      <td>49.0</td>\n",
              "      <td>109.0</td>\n",
              "      <td>45.0</td>\n",
              "      <td>18.0</td>\n",
              "      <td>28.0</td>\n",
              "      <td>64.3</td>\n",
              "      <td>2.4</td>\n",
              "      <td>7.3</td>\n",
              "      <td>1.4</td>\n",
              "      <td>1.2</td>\n",
              "      <td>1.6</td>\n",
              "      <td>1.9</td>\n",
              "      <td>2.8</td>\n",
              "    </tr>\n",
              "    <tr>\n",
              "      <th>151</th>\n",
              "      <td>9.0</td>\n",
              "      <td>9.0</td>\n",
              "      <td>35.1</td>\n",
              "      <td>20.2</td>\n",
              "      <td>3.0</td>\n",
              "      <td>10.0</td>\n",
              "      <td>30.0</td>\n",
              "      <td>75.0</td>\n",
              "      <td>135.0</td>\n",
              "      <td>55.6</td>\n",
              "      <td>29.0</td>\n",
              "      <td>37.0</td>\n",
              "      <td>78.4</td>\n",
              "      <td>5.2</td>\n",
              "      <td>11.4</td>\n",
              "      <td>2.4</td>\n",
              "      <td>1.3</td>\n",
              "      <td>1.6</td>\n",
              "      <td>2.6</td>\n",
              "      <td>2.3</td>\n",
              "    </tr>\n",
              "    <tr>\n",
              "      <th>152</th>\n",
              "      <td>9.0</td>\n",
              "      <td>9.0</td>\n",
              "      <td>33.8</td>\n",
              "      <td>17.2</td>\n",
              "      <td>2.0</td>\n",
              "      <td>12.0</td>\n",
              "      <td>16.7</td>\n",
              "      <td>63.0</td>\n",
              "      <td>122.0</td>\n",
              "      <td>51.6</td>\n",
              "      <td>27.0</td>\n",
              "      <td>38.0</td>\n",
              "      <td>71.1</td>\n",
              "      <td>1.6</td>\n",
              "      <td>11.8</td>\n",
              "      <td>3.0</td>\n",
              "      <td>1.6</td>\n",
              "      <td>1.8</td>\n",
              "      <td>2.8</td>\n",
              "      <td>2.8</td>\n",
              "    </tr>\n",
              "    <tr>\n",
              "      <th>153</th>\n",
              "      <td>14.0</td>\n",
              "      <td>14.0</td>\n",
              "      <td>36.3</td>\n",
              "      <td>24.1</td>\n",
              "      <td>8.0</td>\n",
              "      <td>22.0</td>\n",
              "      <td>36.4</td>\n",
              "      <td>141.0</td>\n",
              "      <td>265.0</td>\n",
              "      <td>53.2</td>\n",
              "      <td>48.0</td>\n",
              "      <td>72.0</td>\n",
              "      <td>66.7</td>\n",
              "      <td>1.9</td>\n",
              "      <td>9.7</td>\n",
              "      <td>3.5</td>\n",
              "      <td>1.5</td>\n",
              "      <td>1.9</td>\n",
              "      <td>2.9</td>\n",
              "      <td>2.1</td>\n",
              "    </tr>\n",
              "    <tr>\n",
              "      <th>154</th>\n",
              "      <td>7.0</td>\n",
              "      <td>7.0</td>\n",
              "      <td>31.7</td>\n",
              "      <td>20.3</td>\n",
              "      <td>2.0</td>\n",
              "      <td>6.0</td>\n",
              "      <td>33.3</td>\n",
              "      <td>59.0</td>\n",
              "      <td>94.0</td>\n",
              "      <td>62.8</td>\n",
              "      <td>22.0</td>\n",
              "      <td>28.0</td>\n",
              "      <td>78.6</td>\n",
              "      <td>4.3</td>\n",
              "      <td>12.6</td>\n",
              "      <td>1.7</td>\n",
              "      <td>1.0</td>\n",
              "      <td>2.3</td>\n",
              "      <td>2.3</td>\n",
              "      <td>2.3</td>\n",
              "    </tr>\n",
              "  </tbody>\n",
              "</table>\n",
              "<p>155 rows × 20 columns</p>\n",
              "</div>"
            ],
            "text/plain": [
              "        G    GS    MP   PTS   3PM   3PA  ...   TRB  AST  STL  BLK  TOV   PF\n",
              "0    12.0   8.0  22.9   4.1   7.0  30.0  ...   2.7  3.8  1.0  0.0  2.0  1.8\n",
              "1    14.0  14.0  23.9   9.8  14.0  34.0  ...   2.8  5.4  1.2  0.0  2.0  1.8\n",
              "2    12.0   9.0  28.5  13.5  21.0  63.0  ...   2.8  4.5  1.0  0.0  1.2  1.9\n",
              "3    13.0  12.0  19.6   6.0   8.0  39.0  ...   1.9  1.1  0.8  0.0  1.3  1.9\n",
              "4    10.0   1.0  19.8   3.9  11.0  23.0  ...   2.0  1.0  0.1  0.0  0.7  2.2\n",
              "..    ...   ...   ...   ...   ...   ...  ...   ...  ...  ...  ...  ...  ...\n",
              "150   9.0   9.0  31.3  14.6  15.0  42.0  ...   7.3  1.4  1.2  1.6  1.9  2.8\n",
              "151   9.0   9.0  35.1  20.2   3.0  10.0  ...  11.4  2.4  1.3  1.6  2.6  2.3\n",
              "152   9.0   9.0  33.8  17.2   2.0  12.0  ...  11.8  3.0  1.6  1.8  2.8  2.8\n",
              "153  14.0  14.0  36.3  24.1   8.0  22.0  ...   9.7  3.5  1.5  1.9  2.9  2.1\n",
              "154   7.0   7.0  31.7  20.3   2.0   6.0  ...  12.6  1.7  1.0  2.3  2.3  2.3\n",
              "\n",
              "[155 rows x 20 columns]"
            ]
          },
          "metadata": {
            "tags": []
          },
          "execution_count": 5
        }
      ]
    },
    {
      "cell_type": "markdown",
      "metadata": {
        "id": "NSWeyBmUKRoi",
        "colab_type": "text"
      },
      "source": [
        "## 2変数を選択し、散布図を描画\n",
        "\n",
        "試しに、**FG%** (2ポイント・3ポイントシュートの成功率) と **FT%** (フリースローの成功率) をプロットし、相関を観察する"
      ]
    },
    {
      "cell_type": "code",
      "metadata": {
        "id": "ZGwMXN9ZD5ev",
        "colab_type": "code",
        "colab": {}
      },
      "source": [
        "# 浮動小数点の配列に変換\n",
        "array_fgp = df['FG%'].values.astype(np.float)\n",
        "array_ftp = df['FT%'].values.astype(np.float)"
      ],
      "execution_count": 0,
      "outputs": []
    },
    {
      "cell_type": "code",
      "metadata": {
        "id": "w32r7psB-TMu",
        "colab_type": "code",
        "outputId": "cac891d0-229a-4fdf-b94d-7af0a8d8a167",
        "colab": {
          "base_uri": "https://localhost:8080/",
          "height": 442
        }
      },
      "source": [
        "# 散布図描画\n",
        "plt.figure(figsize=(10, 7))\n",
        "\n",
        "plt.scatter(array_fgp, array_ftp)\n",
        "plt.xlabel('FG%')\n",
        "plt.ylabel('FT%')\n",
        "\n",
        "plt.show()"
      ],
      "execution_count": 7,
      "outputs": [
        {
          "output_type": "display_data",
          "data": {
            "image/png": "[encoded data removed]",
            "text/plain": [
              "<Figure size 720x504 with 1 Axes>"
            ]
          },
          "metadata": {
            "tags": []
          }
        }
      ]
    },
    {
      "cell_type": "markdown",
      "metadata": {
        "id": "YvWjAeMvKv18",
        "colab_type": "text"
      },
      "source": [
        "→ 相関はみられなかった"
      ]
    },
    {
      "cell_type": "markdown",
      "metadata": {
        "id": "ePsNJL1bK3xo",
        "colab_type": "text"
      },
      "source": [
        "## ヒートマップの作成\n",
        "\n",
        "各変数の相関を可視化するため、ヒートマップを作成する"
      ]
    },
    {
      "cell_type": "code",
      "metadata": {
        "id": "_V6Op4VOJE-E",
        "colab_type": "code",
        "outputId": "7dae18aa-50d5-4c30-f803-b6a34218884d",
        "colab": {
          "base_uri": "https://localhost:8080/",
          "height": 541
        }
      },
      "source": [
        "fig2, ax2 = plt.subplots(figsize=(12, 9)) \n",
        "df_corr = df.corr()\n",
        "sns.heatmap(df_corr, square=True, vmax=1, vmin=-1, center=0)\n",
        "fig2.show()"
      ],
      "execution_count": 8,
      "outputs": [
        {
          "output_type": "display_data",
          "data": {
            "image/png": "[encoded data removed]",
            "text/plain": [
              "<Figure size 864x648 with 2 Axes>"
            ]
          },
          "metadata": {
            "tags": []
          }
        }
      ]
    },
    {
      "cell_type": "markdown",
      "metadata": {
        "id": "Orse1TICK_v1",
        "colab_type": "text"
      },
      "source": [
        "## 回帰分析の実施\n",
        "\n",
        "ヒートマップを観察した結果、**BLK** (平均ブロック数) と **ORB** (平均オフェンスリバウンド数) には一定の相関があることがわかった\n",
        "\n",
        "→ pythonのパッケージであるsklearnを使用し、回帰による予測モデルを作成する"
      ]
    },
    {
      "cell_type": "code",
      "metadata": {
        "id": "KA703h2TolSL",
        "colab_type": "code",
        "colab": {}
      },
      "source": [
        "# 各列を数列に変換し、sklearnで使用可能な形に整える\n",
        "array_blk = df['BLK'].values.astype(np.float).reshape(-1, 1)\n",
        "array_blk_2 = df['BLK'].values.astype(np.float)\n",
        "\n",
        "array_orb = df['ORB'].values.astype(np.float)"
      ],
      "execution_count": 0,
      "outputs": []
    },
    {
      "cell_type": "markdown",
      "metadata": {
        "id": "0FKZRj2sL3oV",
        "colab_type": "text"
      },
      "source": [
        "### 単回帰\n",
        "\n",
        "説明変数を1つ持つ線形回帰モデルによって、直線 ( $y = bx + a$ ) で表現する\n",
        "\n"
      ]
    },
    {
      "cell_type": "code",
      "metadata": {
        "id": "feL61WcCoKZU",
        "colab_type": "code",
        "colab": {
          "base_uri": "https://localhost:8080/",
          "height": 52
        },
        "outputId": "8f96c38c-5028-4fba-9665-001b2a937514"
      },
      "source": [
        "# モデル作成\n",
        "reg_lin = linear_model.LinearRegression()\n",
        "reg_lin.fit(array_blk, array_orb)\n",
        "# 式と誤差の出力\n",
        "print(\"[ORB] = {0} * (BLK) + {1}\".format(reg_lin.coef_, reg_lin.intercept_))\n",
        "print(\"(線形回帰のRMSE) = {0}\".format(np.sqrt(mean_squared_error(array_orb, reg_lin.predict(array_blk)))))"
      ],
      "execution_count": 10,
      "outputs": [
        {
          "output_type": "stream",
          "text": [
            "[ORB] = [1.81235732] * (BLK) + 0.49750487491677\n",
            "(線形回帰のRMSE) = 0.7679848632274702\n"
          ],
          "name": "stdout"
        }
      ]
    },
    {
      "cell_type": "markdown",
      "metadata": {
        "id": "uWkWohiqTG4W",
        "colab_type": "text"
      },
      "source": [
        "### 多項式回帰\n",
        "\n",
        "説明変数は1つのまま、次数を上げた回帰モデルによって、曲線 ( $y = b_0 + b_1x + b_2x^2 + \\dots + b_px^p  $ ) で表現する"
      ]
    },
    {
      "cell_type": "code",
      "metadata": {
        "id": "6ycp4EgMPNtO",
        "colab_type": "code",
        "colab": {
          "base_uri": "https://localhost:8080/",
          "height": 69
        },
        "outputId": "bda59e11-4c9b-4b45-9858-6e830793900c"
      },
      "source": [
        "# BLKの各値を1～4乗した配列に変換\n",
        "from sklearn.preprocessing import PolynomialFeatures\n",
        "poly = PolynomialFeatures(degree=4, include_bias=False)\n",
        "array_blk_new = poly.fit_transform(array_blk)\n",
        "# 最後の3レコードを出力(各項が[1乗, 2乗, 3乗, 4乗]の形になっていることを確認)\n",
        "array_blk_new[-3:]"
      ],
      "execution_count": 11,
      "outputs": [
        {
          "output_type": "execute_result",
          "data": {
            "text/plain": [
              "array([[ 1.8   ,  3.24  ,  5.832 , 10.4976],\n",
              "       [ 1.9   ,  3.61  ,  6.859 , 13.0321],\n",
              "       [ 2.3   ,  5.29  , 12.167 , 27.9841]])"
            ]
          },
          "metadata": {
            "tags": []
          },
          "execution_count": 11
        }
      ]
    },
    {
      "cell_type": "code",
      "metadata": {
        "id": "DirQgtNuP_Nf",
        "colab_type": "code",
        "colab": {
          "base_uri": "https://localhost:8080/",
          "height": 72
        },
        "outputId": "e7cab76d-56e0-4fa0-d7a1-7a1c4f4f704e"
      },
      "source": [
        "# モデル作成\n",
        "reg_lin_2 = linear_model.LinearRegression()\n",
        "reg_lin_2.fit(array_blk_new, array_orb)\n",
        "# 式と誤差の出力\n",
        "print(\"[ORB] = {0} + {1}*(BLK) + {2}*(BLK)^2 + {3}*(BLK)^3 + {4}*(BLK)^4\".format(reg_lin_2.intercept_, reg_lin_2.coef_[0], reg_lin_2.coef_[1], reg_lin_2.coef_[2], reg_lin_2.coef_[3]))\n",
        "print(\"(多項式回帰のRMSE) = {0}\".format(np.sqrt(mean_squared_error(array_orb, reg_lin_2.predict(array_blk_new)))))"
      ],
      "execution_count": 12,
      "outputs": [
        {
          "output_type": "stream",
          "text": [
            "[ORB] = 0.39920373672139586 + 1.7412271639581631*(BLK) + 3.6388008355575745*(BLK)^2 + -4.115920167196315*(BLK)^3 + 1.086485223854575*(BLK)^4\n",
            "(多項式回帰のRMSE) = 0.7266904855901497\n"
          ],
          "name": "stdout"
        }
      ]
    },
    {
      "cell_type": "markdown",
      "metadata": {
        "id": "5G9t5-gpL-cp",
        "colab_type": "text"
      },
      "source": [
        "### SVR (サポートベクター回帰)\n",
        "\n",
        "誤差と重み (を2乗して0.5倍したもの) の和を最小化する\n",
        "\n",
        "このとき、誤差関数に線形回帰で用いたよ二乗誤差のかわりにヒンジ関数を用いる (誤差が $\\pm \\epsilon$ の範囲に収まっているとき、誤差0として扱う) のが特徴"
      ]
    },
    {
      "cell_type": "code",
      "metadata": {
        "id": "POP9S04jxBg9",
        "colab_type": "code",
        "colab": {
          "base_uri": "https://localhost:8080/",
          "height": 34
        },
        "outputId": "3f7e8075-46a2-4edd-9b04-9ebbfe502348"
      },
      "source": [
        "# モデル作成\n",
        "reg_svr_rbf = SVR(kernel='rbf', C=1e3, gamma=0.1)\n",
        "reg_svr_rbf.fit(array_blk, array_orb)\n",
        "# 誤差の出力\n",
        "print(\"(SVRのRMSE) = {0}\".format(np.sqrt(mean_squared_error(array_orb, reg_svr_rbf.predict(array_blk)))))"
      ],
      "execution_count": 13,
      "outputs": [
        {
          "output_type": "stream",
          "text": [
            "(SVRのRMSE) = 0.7516613267409353\n"
          ],
          "name": "stdout"
        }
      ]
    },
    {
      "cell_type": "markdown",
      "metadata": {
        "id": "46FCFA-ejeLH",
        "colab_type": "text"
      },
      "source": [
        "### Ridge回帰\n",
        "\n",
        "二乗誤差に学習した重みの二乗の$\\alpha$倍を加え、それを最小化することによって、誤差を小さくしつつ重みの大きさも抑え、過学習を防ぐ"
      ]
    },
    {
      "cell_type": "code",
      "metadata": {
        "id": "FE1Dt4XCjfM3",
        "colab_type": "code",
        "colab": {
          "base_uri": "https://localhost:8080/",
          "height": 34
        },
        "outputId": "c90f2fb0-fc47-4f35-bd96-049b8b0eb597"
      },
      "source": [
        "# モデルの生成・フィット\n",
        "poly_2 = PolynomialFeatures(degree=8) # 1～8乗までもたせる\n",
        "reg_ridge = Ridge(alpha=5, max_iter=10000)\n",
        "reg_ridge_pl = Pipeline([(\"poly_8\", poly_2), (\"ridge\", reg_ridge)])\n",
        "reg_ridge_pl.fit(array_blk, array_orb)\n",
        "# 誤差の出力\n",
        "print(\"(Ridge回帰のRMSE) = {0}\".format(np.sqrt(mean_squared_error(array_orb, reg_ridge_pl.predict(array_blk)))))"
      ],
      "execution_count": 14,
      "outputs": [
        {
          "output_type": "stream",
          "text": [
            "(Ridge回帰のRMSE) = 0.7414089875329093\n"
          ],
          "name": "stdout"
        }
      ]
    },
    {
      "cell_type": "markdown",
      "metadata": {
        "id": "ESXlfB0YMWPm",
        "colab_type": "text"
      },
      "source": [
        "## グラフに描画\n",
        "\n",
        "実データと各モデルを用いた予測結果をグラフにプロットする"
      ]
    },
    {
      "cell_type": "markdown",
      "metadata": {
        "id": "X8eeXLDSuAzx",
        "colab_type": "text"
      },
      "source": [
        ""
      ]
    },
    {
      "cell_type": "code",
      "metadata": {
        "id": "tD7TS0wonntQ",
        "colab_type": "code",
        "colab": {
          "base_uri": "https://localhost:8080/",
          "height": 442
        },
        "outputId": "bf7643d0-ef23-4e28-ccb6-982f3a1b9bbb"
      },
      "source": [
        "plt.figure(figsize=(10, 7))\n",
        "plt.scatter(array_blk_2, array_orb)\n",
        "plt.plot(array_blk, reg_lin.predict(array_blk), color='green', label='Linear-Regression', linestyle='solid')\n",
        "plt.plot(array_blk, reg_lin_2.predict(array_blk_new),color='purple', label='Polynomial-Regression', linestyle='dotted')\n",
        "plt.plot(array_blk, reg_svr_rbf.predict(array_blk), color='red', label='SVR', linestyle='dashdot')\n",
        "plt.plot(array_blk, reg_ridge_pl.predict(array_blk), color='orange', label='Ridge', linestyle='dashed')\n",
        "plt.xlabel(\"BLK\")\n",
        "plt.ylabel(\"ORB\")\n",
        "plt.legend()\n",
        "plt.show()\n"
      ],
      "execution_count": 15,
      "outputs": [
        {
          "output_type": "display_data",
          "data": {
            "image/png": "[encoded data removed]",
            "text/plain": [
              "<Figure size 720x504 with 1 Axes>"
            ]
          },
          "metadata": {
            "tags": []
          }
        }
      ]
    }
  ]
}